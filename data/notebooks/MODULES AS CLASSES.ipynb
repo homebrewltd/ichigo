{
 "cells": [
  {
   "cell_type": "code",
   "execution_count": null,
   "metadata": {},
   "outputs": [],
   "source": [
    "from whisperspeech.pipeline import Pipeline\n",
    "\n",
    "class TTSProcessor:\n",
    "    def __init__(self, num_processes_per_gpu, num_gpus):\n",
    "        \"\"\"TTS Processor to generate TTS from prompts.\"\"\"\n",
    "        self.num_processes_per_gpu = num_processes_per_gpu\n",
    "        self.num_gpus = num_gpus\n",
    "\n",
    "    def distribute_pipe(self):\n",
    "        \"\"\"Distribute the pipeline.\"\"\"\n",
    "        self.pipes = []\n",
    "        for gpu_id in range(self.num_gpus):\n",
    "            for pipe_id in range(self.num_processes_per_gpu):\n",
    "                self.pipes.append(Pipeline(s2a_ref=\"collabora/whisperspeech:s2a-q4-tiny-en+pl.model\", ))\n"
   ]
  },
  {
   "cell_type": "code",
   "execution_count": 8,
   "metadata": {},
   "outputs": [],
   "source": [
    "import torch\n",
    "\n",
    "# random float32 tensor with normal distribution\n",
    "x = torch.randn(10, 2, dtype=torch.float32).numpy()"
   ]
  },
  {
   "cell_type": "code",
   "execution_count": 25,
   "metadata": {},
   "outputs": [
    {
     "data": {
      "text/plain": [
       "<pyarrow.Tensor>\n",
       "type: float\n",
       "shape: (10, 2)\n",
       "strides: (8, 4)"
      ]
     },
     "execution_count": 25,
     "metadata": {},
     "output_type": "execute_result"
    }
   ],
   "source": [
    "import pyarrow as pa\n",
    "\n",
    "# convert to pyarrow tensor\n",
    "x_pa = pa.Tensor.from_numpy(x)\n",
    "x_pa"
   ]
  },
  {
   "cell_type": "code",
   "execution_count": 10,
   "metadata": {},
   "outputs": [
    {
     "data": {
      "text/plain": [
       "<pyarrow.Tensor>\n",
       "type: float\n",
       "shape: (10, 2)\n",
       "strides: (8, 4)"
      ]
     },
     "execution_count": 10,
     "metadata": {},
     "output_type": "execute_result"
    }
   ],
   "source": [
    "x_pa"
   ]
  },
  {
   "cell_type": "code",
   "execution_count": 36,
   "metadata": {},
   "outputs": [],
   "source": [
    "schema = pa.schema([pa.field(\"feature\", pa.list_(pa.float32())), pa.field(\"label\", pa.list_(pa.float32()))])"
   ]
  },
  {
   "cell_type": "code",
   "execution_count": 31,
   "metadata": {},
   "outputs": [],
   "source": [
    "import torchaudio\n",
    "\n",
    "\n",
    "tensor, sr = torchaudio.load(\"/home/root/Workspace/synthetic_data_generation/sound_instruct_llama3/data/new_audio/audio_2499.wav\")"
   ]
  },
  {
   "cell_type": "code",
   "execution_count": 32,
   "metadata": {},
   "outputs": [
    {
     "data": {
      "text/plain": [
       "array([-0.00079372, -0.00075542, -0.00076741, ...,  0.00136764,\n",
       "       -0.00015275, -0.00142147], dtype=float32)"
      ]
     },
     "execution_count": 32,
     "metadata": {},
     "output_type": "execute_result"
    }
   ],
   "source": [
    "tensor.squeeze(0).numpy()"
   ]
  },
  {
   "cell_type": "code",
   "execution_count": 44,
   "metadata": {},
   "outputs": [],
   "source": [
    "import pyarrow as pa\n",
    "import torchaudio\n",
    "\n",
    "# Define the schema\n",
    "schema = pa.schema([\n",
    "    pa.field(\"feature\", pa.list_(pa.float32())),\n",
    "    pa.field(\"label\", pa.list_(pa.float32()))\n",
    "])\n",
    "\n",
    "# Load the audio file\n",
    "tensor, sr = torchaudio.load(\"/home/root/Workspace/synthetic_data_generation/sound_instruct_llama3/data/new_audio/audio_2499.wav\")"
   ]
  },
  {
   "cell_type": "code",
   "execution_count": 53,
   "metadata": {},
   "outputs": [
    {
     "name": "stdout",
     "output_type": "stream",
     "text": [
      "Loaded audio file with sample rate: 24000\n",
      "Opened data.arrow for writing.\n",
      "Prepared pyarrow arrays for feature and label.\n",
      "Created RecordBatch with schema: feature: list<item: float>\n",
      "  child 0, item: float\n",
      "label: list<item: float>\n",
      "  child 0, item: float\n",
      "Wrote RecordBatch to data.arrow.\n",
      "Closed the writer.\n"
     ]
    },
    {
     "name": "stderr",
     "output_type": "stream",
     "text": [
      "/tmp/ipykernel_2736918/2364974236.py:25: FutureWarning: Schema passed to names= option, please pass schema= explicitly. Will raise exception in future\n",
      "  batch = pa.RecordBatch.from_arrays([feature_array, label_array], schema)\n"
     ]
    }
   ],
   "source": [
    "import pyarrow as pa\n",
    "import torchaudio\n",
    "\n",
    "# Define the schema\n",
    "schema = pa.schema([\n",
    "    pa.field(\"feature\", pa.list_(pa.float32())),\n",
    "    pa.field(\"label\", pa.list_(pa.float32()))\n",
    "])\n",
    "\n",
    "# Load an audio file\n",
    "tensor, sr = torchaudio.load(\"/home/root/Workspace/synthetic_data_generation/sound_instruct_llama3/data/new_audio/audio_2499.wav\")\n",
    "print(f\"Loaded audio file with sample rate: {sr}\")\n",
    "\n",
    "# Open the file sink for writing\n",
    "with pa.OSFile(\"data.arrow\", \"wb\") as sink:\n",
    "    writer = pa.ipc.RecordBatchFileWriter(sink, schema)\n",
    "    print(\"Opened data.arrow for writing.\")\n",
    "\n",
    "    # Prepare the data as pyarrow arrays\n",
    "    feature_array = pa.array([tensor.squeeze(0).numpy()], type=pa.list_(pa.float32()))\n",
    "    label_array = pa.array([tensor.squeeze(0).numpy()], type=pa.list_(pa.float32()))\n",
    "    print(\"Prepared pyarrow arrays for feature and label.\")\n",
    "\n",
    "    # Create a RecordBatch from the arrays\n",
    "    batch = pa.RecordBatch.from_arrays([feature_array, label_array], schema)\n",
    "    print(\"Created RecordBatch with schema:\", schema)\n",
    "\n",
    "    # Write the batch to the file\n",
    "    writer.write_batch(batch)\n",
    "    print(\"Wrote RecordBatch to data.arrow.\")\n",
    "\n",
    "    # Close the writer explicitly\n",
    "    writer.close()\n",
    "    print(\"Closed the writer.\")\n"
   ]
  },
  {
   "cell_type": "code",
   "execution_count": 2,
   "metadata": {},
   "outputs": [
    {
     "name": "stdout",
     "output_type": "stream",
     "text": [
      "Opened data.arrow for reading.\n"
     ]
    }
   ],
   "source": [
    "import pyarrow as pa\n",
    "\n",
    "# Open the Arrow file for reading\n",
    "with pa.memory_map(\"/home/root/Workspace/synthetic_data_generation/sound_instruct_llama3/data/new_tokens_test.arrow\", \"r\") as source:\n",
    "    reader = pa.ipc.RecordBatchFileReader(source)\n",
    "    print(\"Opened data.arrow for reading.\")\n",
    "\n",
    "    # Read the first RecordBatch from the file\n",
    "    batch = reader.get_batch(0)"
   ]
  },
  {
   "cell_type": "code",
   "execution_count": 7,
   "metadata": {},
   "outputs": [
    {
     "data": {
      "text/plain": [
       "30"
      ]
     },
     "execution_count": 7,
     "metadata": {},
     "output_type": "execute_result"
    }
   ],
   "source": [
    "len(batch['index'].to_pylist())"
   ]
  },
  {
   "cell_type": "code",
   "execution_count": 8,
   "metadata": {},
   "outputs": [
    {
     "data": {
      "text/plain": [
       "pyarrow.RecordBatch\n",
       "index: int64\n",
       "audio: list<item: float>\n",
       "  child 0, item: float\n",
       "tokens: list<item: int64>\n",
       "  child 0, item: int64\n",
       "----\n",
       "index: [39,26,13,39,26,13,0,26,27,13,...,29,40,29,0,40,14,30,41,1,30]\n",
       "audio: [[-0.00029094573,-0.00034573989,0.000022817841,-0.00027235653,-0.00031429573,-0.00039280177,-0.00034648518,-0.00032828614,-0.00035278645,-0.000373924,...,-0.0025422256,-0.0010895681,0.0007264769,0.0010857449,-0.00083532487,-0.003013576,-0.0022790248,0.0010084701,0.0033206274,0.0029433377],[0.0025704913,0.0025136126,0.0014571494,-0.00037038358,-0.0007443017,-0.0006073907,-0.0004519045,-0.0005722932,-0.0007481215,-0.00013342877,...,-0.0000245303,-0.00002758873,-0.000046347614,-0.000029870982,-0.000030304207,-0.00005873055,-0.000045055498,-0.000027642718,-0.000021178023,-0.000029912522],...,[-0.000015874664,-0.00003266528,-0.00007935162,-0.00008547738,-0.00006313591,-0.00009888231,-0.00009041828,-0.000036883597,-0.00005379759,-0.00008361159,...,-0.00001311769,-0.000062267834,-0.000022356151,-0.000054947748,-0.000088491724,-0.000029405277,-0.000013067579,-0.00008770156,-0.000089206136,-0.000059054328],[-0.00003618826,-0.000019597546,-0.000031830416,-0.000025071598,-0.000015883212,-0.000031013606,-0.000017399792,-0.000033626875,-0.000016543003,-0.000006478736,...,-0.0057092966,-0.006581779,-0.006953725,-0.006486582,-0.0051064272,-0.003168835,-0.00096961705,0.00094704586,0.0012030557,-0.0010459318]]\n",
       "tokens: [[121,544,62,518,1019,937,136,419,651,723,...,731,652,53,652,463,200,463,870,106,43],[835,519,62,424,408,913,62,424,408,544,...,62,518,62,518,62,518,62,518,62,518],...,[62,913,62,424,62,424,62,424,408,544,...,62,424,408,913,408,913,408,913,62,424],[62,913,62,424,62,424,62,424,408,544,...,103,710,103,336,103,974,25,870,432,913]]"
      ]
     },
     "execution_count": 8,
     "metadata": {},
     "output_type": "execute_result"
    }
   ],
   "source": [
    "batch"
   ]
  },
  {
   "cell_type": "code",
   "execution_count": 9,
   "metadata": {},
   "outputs": [
    {
     "data": {
      "text/plain": [
       "30"
      ]
     },
     "execution_count": 9,
     "metadata": {},
     "output_type": "execute_result"
    }
   ],
   "source": [
    "len(batch['audio'].to_pylist())"
   ]
  },
  {
   "cell_type": "code",
   "execution_count": null,
   "metadata": {},
   "outputs": [],
   "source": [
    "audio"
   ]
  }
 ],
 "metadata": {
  "kernelspec": {
   "display_name": "Python 3 (ipykernel)",
   "language": "python",
   "name": "python3"
  },
  "language_info": {
   "codemirror_mode": {
    "name": "ipython",
    "version": 3
   },
   "file_extension": ".py",
   "mimetype": "text/x-python",
   "name": "python",
   "nbconvert_exporter": "python",
   "pygments_lexer": "ipython3",
   "version": "3.11.9"
  }
 },
 "nbformat": 4,
 "nbformat_minor": 4
}
