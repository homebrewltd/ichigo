{
 "cells": [
  {
   "cell_type": "code",
   "execution_count": null,
   "metadata": {},
   "outputs": [],
   "source": [
    "from whisperspeech.pipeline import Pipeline\n",
    "\n",
    "class TTSProcessor:\n",
    "    def __init__(self, num_processes_per_gpu, num_gpus):\n",
    "        \"\"\"TTS Processor to generate TTS from prompts.\"\"\"\n",
    "        self.num_processes_per_gpu = num_processes_per_gpu\n",
    "        self.num_gpus = num_gpus\n",
    "\n",
    "    def distribute_pipe(self):\n",
    "        \"\"\"Distribute the pipeline.\"\"\"\n",
    "        self.pipes = []\n",
    "        for gpu_id in range(self.num_gpus):\n",
    "            for pipe_id in range(self.num_processes_per_gpu):\n",
    "                self.pipes.append(Pipeline(s2a_ref=\"collabora/whisperspeech:s2a-q4-tiny-en+pl.model\", ))\n"
   ]
  }
 ],
 "metadata": {
  "kernelspec": {
   "display_name": "synthetic_data",
   "language": "python",
   "name": "python3"
  },
  "language_info": {
   "name": "python",
   "version": "3.11.9"
  }
 },
 "nbformat": 4,
 "nbformat_minor": 2
}
