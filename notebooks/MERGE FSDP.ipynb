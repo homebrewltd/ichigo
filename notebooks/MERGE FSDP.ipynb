{
 "cells": [
  {
   "cell_type": "markdown",
   "metadata": {},
   "source": [
    "!!! Logging with huggingface tokens using the command\n",
    "\n",
    "```bash\n",
    "huggingface-cli login --token <YOUR HF TOKEN>\n",
    "```"
   ]
  },
  {
   "cell_type": "code",
   "execution_count": null,
   "metadata": {},
   "outputs": [],
   "source": [
    "from accelerate.utils import merge_fsdp_weights\n",
    "\n",
    "# FSDP weight directory to merge\n",
    "FSDP_WEIGHT_DIR = \"./outputs/checkpoint-5760/pytorch_model_fsdp_0\"\n",
    "# Directory to save the merged weights\n",
    "MERGED_WEIGHT_DIR = \"./model_merged\"\n",
    "\n",
    "merge_fsdp_weights(FSDP_WEIGHT_DIR, MERGED_WEIGHT_DIR, safe_serialization=True)"
   ]
  },
  {
   "cell_type": "code",
   "execution_count": null,
   "metadata": {},
   "outputs": [],
   "source": [
    "import torch\n",
    "from transformers import AutoModelForCausalLM\n",
    "from huggingface_hub import snapshot_download\n",
    "\n",
    "# Download the model from the Hugging Face Hub\n",
    "snapshot_download(repo_id=\"jan-hq/llama-3-sound-instruct-cp\", local_dir=\"./llama-3-sound-instruct-cp\")\n",
    "\n",
    "# Load the current model weights\n",
    "model = AutoModelForCausalLM.from_pretrained(\n",
    "    \"./llama-3-sound-instruct-cp\",\n",
    "    torch_dtype=torch.bfloat16,\n",
    "    use_cache=False,\n",
    "    device_map=\"cpu\"\n",
    ")"
   ]
  },
  {
   "cell_type": "code",
   "execution_count": null,
   "metadata": {},
   "outputs": [],
   "source": [
    "# Load the merged FSDP weights\n",
    "from safetensors.torch import load_file\n",
    "new_merged_model_state = load_file(\"./model_merged/model.safetensors\")"
   ]
  },
  {
   "cell_type": "code",
   "execution_count": null,
   "metadata": {},
   "outputs": [],
   "source": [
    "# Load the model with the merged FSDP weights\n",
    "model.load_state_dict(new_merged_model_state)\n",
    "model.push_to_hub(\"jan-hq/llama-3-sound-instruct-cp\")"
   ]
  }
 ],
 "metadata": {
  "language_info": {
   "name": "python"
  }
 },
 "nbformat": 4,
 "nbformat_minor": 2
}
